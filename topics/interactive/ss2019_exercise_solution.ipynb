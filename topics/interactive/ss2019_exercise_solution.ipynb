{
 "cells": [
  {
   "cell_type": "markdown",
   "metadata": {},
   "source": [
    "# Exercises in JupyterLab - Sample Solutions\n",
    "\n",
    "_Tim Robinson, CSCS_\n",
    "\n",
    "This notebook contains sample solutions to `ss2019_exercise.md`\n",
    "\n",
    "## Notebook operations\n",
    "\n",
    "This is some markdown with **bold**, _italic_, in-line equations $f(x) =  a.x^2+b.x+c$ and formatted equations:\n",
    "\n",
    "$$x_\\pm = \\frac{-b \\pm \\sqrt(b^2-4ac)}{2a}$$\n",
    "\n",
    "Note the difference in display between indented blocks and triple backticks (syntax highlighting!):\n",
    "\n",
    "\n",
    "Example with indented 4 spaces:\n",
    "\n",
    "    # I can write some code:\n",
    "    from IPython.display import Math\n",
    "    Math('\\Delta = b^2-4ac')\n",
    "\n",
    "With backticks:\n",
    "\n",
    "```python\n",
    "# I can write some code:\n",
    "from IPython.display import Math\n",
    "Math('\\Delta = b^2-4ac')\n",
    "```\n",
    "\n"
   ]
  },
  {
   "cell_type": "code",
   "execution_count": null,
   "metadata": {},
   "outputs": [],
   "source": [
    "from IPython.display import Math\n",
    "Math('\\Delta = b^2-4ac')"
   ]
  },
  {
   "cell_type": "markdown",
   "metadata": {},
   "source": [
    "Continuing on with the exercise remembering to use the keyboard shortcuts to be efficient. Use `Shift-Enter` to execute the following command:"
   ]
  },
  {
   "cell_type": "code",
   "execution_count": null,
   "metadata": {},
   "outputs": [],
   "source": [
    "print(\"Hello Summer School\")"
   ]
  },
  {
   "cell_type": "markdown",
   "metadata": {},
   "source": [
    "There are multiple options to run a cell. `Ctrl-Enter` execute a cell in place (and keeps it selected), while `Shift-Enter` execute and select next. Finally, `Alt-Enter` execute and insert below."
   ]
  },
  {
   "cell_type": "code",
   "execution_count": null,
   "metadata": {},
   "outputs": [],
   "source": [
    "def fibgen():\n",
    "    a,b = 1,1\n",
    "    for i in range(100):\n",
    "        yield i, a\n",
    "        a,b = b, a+b\n",
    "fib = fibgen()"
   ]
  },
  {
   "cell_type": "code",
   "execution_count": null,
   "metadata": {},
   "outputs": [],
   "source": [
    "# Use Ctrl-Enter to iterate through values of fib\n",
    "next(fib)"
   ]
  },
  {
   "cell_type": "markdown",
   "metadata": {},
   "source": [
    "Practice tab completion using the following example:"
   ]
  },
  {
   "cell_type": "code",
   "execution_count": null,
   "metadata": {},
   "outputs": [],
   "source": [
    "import pandas as pd"
   ]
  },
  {
   "cell_type": "code",
   "execution_count": null,
   "metadata": {},
   "outputs": [],
   "source": [
    "pd?"
   ]
  },
  {
   "cell_type": "code",
   "execution_count": null,
   "metadata": {},
   "outputs": [],
   "source": [
    "# tab to DataFrame\n",
    "pd."
   ]
  },
  {
   "cell_type": "code",
   "execution_count": null,
   "metadata": {},
   "outputs": [],
   "source": [
    "# Shift-Tab to see DataFrame parameters\n",
    "pd.DataFrame("
   ]
  },
  {
   "cell_type": "code",
   "execution_count": null,
   "metadata": {},
   "outputs": [],
   "source": [
    "!ls data"
   ]
  },
  {
   "cell_type": "code",
   "execution_count": null,
   "metadata": {},
   "outputs": [],
   "source": [
    "# open inspector\n",
    "df = pd.read_csv('iris.csv')"
   ]
  },
  {
   "cell_type": "code",
   "execution_count": null,
   "metadata": {},
   "outputs": [],
   "source": [
    "df.head()"
   ]
  },
  {
   "cell_type": "markdown",
   "metadata": {},
   "source": [
    "We can use some `%magic` to run Matplotlib in line in this notebook."
   ]
  },
  {
   "cell_type": "code",
   "execution_count": null,
   "metadata": {},
   "outputs": [],
   "source": [
    "%matplotlib inline"
   ]
  },
  {
   "cell_type": "code",
   "execution_count": null,
   "metadata": {},
   "outputs": [],
   "source": [
    "ax2 = df.plot.scatter(x='sepal_length',y='sepal_width')"
   ]
  },
  {
   "cell_type": "markdown",
   "metadata": {},
   "source": [
    "## If you had time... "
   ]
  },
  {
   "cell_type": "markdown",
   "metadata": {},
   "source": [
    "* Move a cell by dragging.\n",
    "* Use the View menu, or click the blue bar, to collapse and expand an input and an output.\n",
    "* Use the context menu to enable scrolling in a cell that has lots of output."
   ]
  },
  {
   "cell_type": "code",
   "execution_count": null,
   "metadata": {},
   "outputs": [],
   "source": [
    "#enable scrolling in this cell output\n",
    "import numpy as np\n",
    "for i in range(50):\n",
    "    print(i**2)"
   ]
  },
  {
   "cell_type": "markdown",
   "metadata": {},
   "source": [
    "* Try \"Create new view for output\" in the context menu of an output. Modify and execute the cell again to see the mirrored output update.\n",
    "* Learn the various keyboard shortcuts through the menu and the command palette\n",
    "* Create a new notebook and try to attach it to the same kernel running in your current notebook."
   ]
  },
  {
   "cell_type": "code",
   "execution_count": null,
   "metadata": {},
   "outputs": [],
   "source": []
  }
 ],
 "metadata": {
  "kernelspec": {
   "display_name": "Python 3",
   "language": "python",
   "name": "python3"
  },
  "language_info": {
   "codemirror_mode": {
    "name": "ipython",
    "version": 3
   },
   "file_extension": ".py",
   "mimetype": "text/x-python",
   "name": "python",
   "nbconvert_exporter": "python",
   "pygments_lexer": "ipython3",
   "version": "3.6.5"
  }
 },
 "nbformat": 4,
 "nbformat_minor": 2
}
